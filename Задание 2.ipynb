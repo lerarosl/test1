{
 "cells": [
  {
   "cell_type": "code",
   "execution_count": 1,
   "id": "e0b20093",
   "metadata": {},
   "outputs": [
    {
     "data": {
      "text/html": [
       "<div>\n",
       "<style scoped>\n",
       "    .dataframe tbody tr th:only-of-type {\n",
       "        vertical-align: middle;\n",
       "    }\n",
       "\n",
       "    .dataframe tbody tr th {\n",
       "        vertical-align: top;\n",
       "    }\n",
       "\n",
       "    .dataframe thead th {\n",
       "        text-align: right;\n",
       "    }\n",
       "</style>\n",
       "<table border=\"1\" class=\"dataframe\">\n",
       "  <thead>\n",
       "    <tr style=\"text-align: right;\">\n",
       "      <th></th>\n",
       "      <th>TIME</th>\n",
       "      <th>TRANSACTION_ID</th>\n",
       "      <th>AMOUNT</th>\n",
       "      <th>CLIENT_ID</th>\n",
       "      <th>BANK_ID</th>\n",
       "      <th>CITY</th>\n",
       "      <th>OPERATION_TYPE</th>\n",
       "      <th>FRAUD_FLAG</th>\n",
       "    </tr>\n",
       "  </thead>\n",
       "  <tbody>\n",
       "    <tr>\n",
       "      <th>0</th>\n",
       "      <td>2023-05-01</td>\n",
       "      <td>525471381920</td>\n",
       "      <td>1560</td>\n",
       "      <td>BD308B1E6247DAD7E7FAC425AB3CADA464C26F2A0B47EB...</td>\n",
       "      <td>6</td>\n",
       "      <td>VSEVOLOZHSK</td>\n",
       "      <td>Снятие через банкоматы партнеров</td>\n",
       "      <td>0</td>\n",
       "    </tr>\n",
       "    <tr>\n",
       "      <th>1</th>\n",
       "      <td>2023-05-01</td>\n",
       "      <td>525471383640</td>\n",
       "      <td>1560</td>\n",
       "      <td>BD308B1E6247DAD7E7FAC425AB3CADA464C26F2A0B47EB...</td>\n",
       "      <td>6</td>\n",
       "      <td>VSEVOLOZHSK</td>\n",
       "      <td>Снятие через банкоматы партнеров</td>\n",
       "      <td>0</td>\n",
       "    </tr>\n",
       "    <tr>\n",
       "      <th>2</th>\n",
       "      <td>2023-05-01</td>\n",
       "      <td>525487382296</td>\n",
       "      <td>290</td>\n",
       "      <td>2E021B8D64532F869A14167A6075996B903D52ED66B3AD...</td>\n",
       "      <td>6</td>\n",
       "      <td>OBNINSK</td>\n",
       "      <td>Снятие через банкоматы партнеров</td>\n",
       "      <td>0</td>\n",
       "    </tr>\n",
       "    <tr>\n",
       "      <th>3</th>\n",
       "      <td>2023-05-01</td>\n",
       "      <td>525364464247</td>\n",
       "      <td>310</td>\n",
       "      <td>B27401D40DC566402D47BA342DDD6A1457E91F3D211D0B...</td>\n",
       "      <td>3</td>\n",
       "      <td>CHITA G</td>\n",
       "      <td>Пополнение через банкоматы партнеров</td>\n",
       "      <td>0</td>\n",
       "    </tr>\n",
       "    <tr>\n",
       "      <th>4</th>\n",
       "      <td>2023-05-01</td>\n",
       "      <td>525513617413</td>\n",
       "      <td>140</td>\n",
       "      <td>B566176D8952A9B1AA4A25D1574AE1CA9EA57C2AB4F29C...</td>\n",
       "      <td>2</td>\n",
       "      <td>DALNEGORSK</td>\n",
       "      <td>Снятие через чужие банкоматы</td>\n",
       "      <td>0</td>\n",
       "    </tr>\n",
       "  </tbody>\n",
       "</table>\n",
       "</div>"
      ],
      "text/plain": [
       "         TIME  TRANSACTION_ID  AMOUNT  \\\n",
       "0  2023-05-01    525471381920    1560   \n",
       "1  2023-05-01    525471383640    1560   \n",
       "2  2023-05-01    525487382296     290   \n",
       "3  2023-05-01    525364464247     310   \n",
       "4  2023-05-01    525513617413     140   \n",
       "\n",
       "                                           CLIENT_ID  BANK_ID         CITY  \\\n",
       "0  BD308B1E6247DAD7E7FAC425AB3CADA464C26F2A0B47EB...        6  VSEVOLOZHSK   \n",
       "1  BD308B1E6247DAD7E7FAC425AB3CADA464C26F2A0B47EB...        6  VSEVOLOZHSK   \n",
       "2  2E021B8D64532F869A14167A6075996B903D52ED66B3AD...        6      OBNINSK   \n",
       "3  B27401D40DC566402D47BA342DDD6A1457E91F3D211D0B...        3      CHITA G   \n",
       "4  B566176D8952A9B1AA4A25D1574AE1CA9EA57C2AB4F29C...        2   DALNEGORSK   \n",
       "\n",
       "                         OPERATION_TYPE  FRAUD_FLAG  \n",
       "0      Снятие через банкоматы партнеров           0  \n",
       "1      Снятие через банкоматы партнеров           0  \n",
       "2      Снятие через банкоматы партнеров           0  \n",
       "3  Пополнение через банкоматы партнеров           0  \n",
       "4          Снятие через чужие банкоматы           0  "
      ]
     },
     "execution_count": 1,
     "metadata": {},
     "output_type": "execute_result"
    }
   ],
   "source": [
    "!pip install pandas\n",
    "import pandas as pd\n",
    "dataset = pd.read_csv('try1.csv',sep=';')\n",
    "dataset.head()"
   ]
  },
  {
   "cell_type": "code",
   "execution_count": 2,
   "id": "19bca8c9",
   "metadata": {},
   "outputs": [],
   "source": [
    "dataset['TIME'] = pd.to_datetime(dataset['TIME'])"
   ]
  },
  {
   "cell_type": "code",
   "execution_count": 4,
   "id": "4d7786f3",
   "metadata": {},
   "outputs": [],
   "source": [
    "dataset['YEAR_MONTH'] = dataset['TIME'].dt.to_period('M')"
   ]
  },
  {
   "cell_type": "code",
   "execution_count": 6,
   "id": "8c6e73cd",
   "metadata": {},
   "outputs": [],
   "source": [
    "monthly_dataset = dataset.groupby(['YEAR_MONTH', 'BANK_ID', 'OPERATION_TYPE'])['AMOUNT'].sum().reset_index()"
   ]
  },
  {
   "cell_type": "code",
   "execution_count": 7,
   "id": "bf8f8ae0",
   "metadata": {},
   "outputs": [],
   "source": [
    "monthly_dataset = monthly_dataset.sort_values(by=['YEAR_MONTH', 'BANK_ID', 'OPERATION_TYPE'])"
   ]
  },
  {
   "cell_type": "code",
   "execution_count": 8,
   "id": "7237e257",
   "metadata": {},
   "outputs": [],
   "source": [
    "monthly_dataset['PREV_AMOUNT'] = monthly_dataset.groupby(['BANK_ID', 'OPERATION_TYPE'])['AMOUNT'].shift(1)\n",
    "monthly_dataset['GROWTH'] = monthly_dataset['AMOUNT'] - monthly_dataset['PREV_AMOUNT']\n",
    "monthly_dataset['PERCENT_GROWTH'] = (monthly_dataset['GROWTH'] / monthly_dataset['PREV_AMOUNT']) * 100"
   ]
  },
  {
   "cell_type": "code",
   "execution_count": 9,
   "id": "c74006b7",
   "metadata": {},
   "outputs": [],
   "source": [
    "monthly_dataset = monthly_dataset.dropna()"
   ]
  },
  {
   "cell_type": "code",
   "execution_count": 10,
   "id": "eb03633f",
   "metadata": {},
   "outputs": [],
   "source": [
    "max_percent_growth = monthly_dataset.loc[monthly_dataset['PERCENT_GROWTH'].idxmax()]\n",
    "max_nominal_growth = monthly_dataset.loc[monthly_dataset['GROWTH'].idxmax()]"
   ]
  },
  {
   "cell_type": "code",
   "execution_count": 12,
   "id": "03d375f0",
   "metadata": {},
   "outputs": [
    {
     "name": "stdout",
     "output_type": "stream",
     "text": [
      "Максимальный процентный рост:\n",
      "Банк: 35, Тип операции: Снятие через чужие банкоматы, Месяц: 2023-07, Процентный рост: 510.84%\n",
      "Максимальный номинальный рост:\n",
      "Банк: 3, Тип операции: Пополнение через банкоматы партнеров, Месяц: 2023-07, Номинальный рост: 20759850.00\n"
     ]
    }
   ],
   "source": [
    "print(\"Максимальный процентный рост:\")\n",
    "print(f\"Банк: {max_percent_growth['BANK_ID']}, Тип операции: {max_percent_growth['OPERATION_TYPE']}, \"\n",
    "      f\"Месяц: {max_percent_growth['YEAR_MONTH']}, Процентный рост: {max_percent_growth['PERCENT_GROWTH']:.2f}%\")\n",
    "\n",
    "print(\"Максимальный номинальный рост:\")\n",
    "print(f\"Банк: {max_nominal_growth['BANK_ID']}, Тип операции: {max_nominal_growth['OPERATION_TYPE']}, \"\n",
    "      f\"Месяц: {max_nominal_growth['YEAR_MONTH']}, Номинальный рост: {max_nominal_growth['GROWTH']:.2f}\")"
   ]
  },
  {
   "cell_type": "code",
   "execution_count": null,
   "id": "1839eaad",
   "metadata": {},
   "outputs": [],
   "source": []
  }
 ],
 "metadata": {
  "kernelspec": {
   "display_name": "Python 3 (ipykernel)",
   "language": "python",
   "name": "python3"
  },
  "language_info": {
   "codemirror_mode": {
    "name": "ipython",
    "version": 3
   },
   "file_extension": ".py",
   "mimetype": "text/x-python",
   "name": "python",
   "nbconvert_exporter": "python",
   "pygments_lexer": "ipython3",
   "version": "3.11.5"
  }
 },
 "nbformat": 4,
 "nbformat_minor": 5
}
