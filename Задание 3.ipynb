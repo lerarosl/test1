{
 "cells": [
  {
   "cell_type": "code",
   "execution_count": null,
   "id": "598c1afb",
   "metadata": {},
   "outputs": [],
   "source": [
    "#Данных клиентов объединяет то, что они совершали снятие через банкоматы партнеров, айди банка в основном 3 и 5"
   ]
  },
  {
   "cell_type": "code",
   "execution_count": 80,
   "id": "673758b1",
   "metadata": {},
   "outputs": [
    {
     "data": {
      "text/html": [
       "<div>\n",
       "<style scoped>\n",
       "    .dataframe tbody tr th:only-of-type {\n",
       "        vertical-align: middle;\n",
       "    }\n",
       "\n",
       "    .dataframe tbody tr th {\n",
       "        vertical-align: top;\n",
       "    }\n",
       "\n",
       "    .dataframe thead th {\n",
       "        text-align: right;\n",
       "    }\n",
       "</style>\n",
       "<table border=\"1\" class=\"dataframe\">\n",
       "  <thead>\n",
       "    <tr style=\"text-align: right;\">\n",
       "      <th></th>\n",
       "      <th>TIME</th>\n",
       "      <th>TRANSACTION_ID</th>\n",
       "      <th>AMOUNT</th>\n",
       "      <th>CLIENT_ID</th>\n",
       "      <th>BANK_ID</th>\n",
       "      <th>CITY</th>\n",
       "      <th>OPERATION_TYPE</th>\n",
       "      <th>FRAUD_FLAG</th>\n",
       "    </tr>\n",
       "  </thead>\n",
       "  <tbody>\n",
       "    <tr>\n",
       "      <th>0</th>\n",
       "      <td>2023-05-01</td>\n",
       "      <td>525471381920</td>\n",
       "      <td>1560</td>\n",
       "      <td>BD308B1E6247DAD7E7FAC425AB3CADA464C26F2A0B47EB...</td>\n",
       "      <td>6</td>\n",
       "      <td>VSEVOLOZHSK</td>\n",
       "      <td>Снятие через банкоматы партнеров</td>\n",
       "      <td>0</td>\n",
       "    </tr>\n",
       "    <tr>\n",
       "      <th>1</th>\n",
       "      <td>2023-05-01</td>\n",
       "      <td>525471383640</td>\n",
       "      <td>1560</td>\n",
       "      <td>BD308B1E6247DAD7E7FAC425AB3CADA464C26F2A0B47EB...</td>\n",
       "      <td>6</td>\n",
       "      <td>VSEVOLOZHSK</td>\n",
       "      <td>Снятие через банкоматы партнеров</td>\n",
       "      <td>0</td>\n",
       "    </tr>\n",
       "    <tr>\n",
       "      <th>2</th>\n",
       "      <td>2023-05-01</td>\n",
       "      <td>525487382296</td>\n",
       "      <td>290</td>\n",
       "      <td>2E021B8D64532F869A14167A6075996B903D52ED66B3AD...</td>\n",
       "      <td>6</td>\n",
       "      <td>OBNINSK</td>\n",
       "      <td>Снятие через банкоматы партнеров</td>\n",
       "      <td>0</td>\n",
       "    </tr>\n",
       "    <tr>\n",
       "      <th>3</th>\n",
       "      <td>2023-05-01</td>\n",
       "      <td>525364464247</td>\n",
       "      <td>310</td>\n",
       "      <td>B27401D40DC566402D47BA342DDD6A1457E91F3D211D0B...</td>\n",
       "      <td>3</td>\n",
       "      <td>CHITA G</td>\n",
       "      <td>Пополнение через банкоматы партнеров</td>\n",
       "      <td>0</td>\n",
       "    </tr>\n",
       "    <tr>\n",
       "      <th>4</th>\n",
       "      <td>2023-05-01</td>\n",
       "      <td>525513617413</td>\n",
       "      <td>140</td>\n",
       "      <td>B566176D8952A9B1AA4A25D1574AE1CA9EA57C2AB4F29C...</td>\n",
       "      <td>2</td>\n",
       "      <td>DALNEGORSK</td>\n",
       "      <td>Снятие через чужие банкоматы</td>\n",
       "      <td>0</td>\n",
       "    </tr>\n",
       "  </tbody>\n",
       "</table>\n",
       "</div>"
      ],
      "text/plain": [
       "         TIME  TRANSACTION_ID  AMOUNT  \\\n",
       "0  2023-05-01    525471381920    1560   \n",
       "1  2023-05-01    525471383640    1560   \n",
       "2  2023-05-01    525487382296     290   \n",
       "3  2023-05-01    525364464247     310   \n",
       "4  2023-05-01    525513617413     140   \n",
       "\n",
       "                                           CLIENT_ID  BANK_ID         CITY  \\\n",
       "0  BD308B1E6247DAD7E7FAC425AB3CADA464C26F2A0B47EB...        6  VSEVOLOZHSK   \n",
       "1  BD308B1E6247DAD7E7FAC425AB3CADA464C26F2A0B47EB...        6  VSEVOLOZHSK   \n",
       "2  2E021B8D64532F869A14167A6075996B903D52ED66B3AD...        6      OBNINSK   \n",
       "3  B27401D40DC566402D47BA342DDD6A1457E91F3D211D0B...        3      CHITA G   \n",
       "4  B566176D8952A9B1AA4A25D1574AE1CA9EA57C2AB4F29C...        2   DALNEGORSK   \n",
       "\n",
       "                         OPERATION_TYPE  FRAUD_FLAG  \n",
       "0      Снятие через банкоматы партнеров           0  \n",
       "1      Снятие через банкоматы партнеров           0  \n",
       "2      Снятие через банкоматы партнеров           0  \n",
       "3  Пополнение через банкоматы партнеров           0  \n",
       "4          Снятие через чужие банкоматы           0  "
      ]
     },
     "execution_count": 80,
     "metadata": {},
     "output_type": "execute_result"
    }
   ],
   "source": [
    "!pip install mathplotlib\n",
    "!pip install pandas\n",
    "import pandas as pd\n",
    "import matplotlib.pyplot as plt\n",
    "df = pd.read_csv('try1.csv',sep=';')\n",
    "df.head()"
   ]
  },
  {
   "cell_type": "code",
   "execution_count": 83,
   "id": "41194870",
   "metadata": {},
   "outputs": [],
   "source": [
    "df['TIME'] = pd.to_datetime(df['TIME'])\n",
    "fraud_clients = df[df['FRAUD_FLAG'] == 1]"
   ]
  },
  {
   "cell_type": "code",
   "execution_count": 122,
   "id": "cf43a6d5",
   "metadata": {
    "scrolled": true
   },
   "outputs": [
    {
     "name": "stdout",
     "output_type": "stream",
     "text": [
      "Характеристики фродовых клиентов:\n",
      "          TIME  TRANSACTION_ID  AMOUNT  \\\n",
      "0   2023-07-01    540482085666    1610   \n",
      "1   2023-07-01    540517177893      80   \n",
      "2   2023-07-02    540636758790     470   \n",
      "3   2023-07-02    540640594084     470   \n",
      "4   2023-07-02    540645052881     500   \n",
      "..         ...             ...     ...   \n",
      "515 2023-07-31    547376385515     940   \n",
      "516 2023-07-31    547376834131     470   \n",
      "517 2023-07-31    547379048625     470   \n",
      "518 2023-07-31    547379744940     470   \n",
      "519 2023-07-31    547379745207     470   \n",
      "\n",
      "                                             CLIENT_ID  BANK_ID  \\\n",
      "0    CE04E622F86F602C957FA020B1459F73ABBFF5A6A32746...        3   \n",
      "1    CE04E622F86F602C957FA020B1459F73ABBFF5A6A32746...        3   \n",
      "2    B9983326ADA8FB296B488236557DE7A1FADB49300C4C82...        3   \n",
      "3    B9983326ADA8FB296B488236557DE7A1FADB49300C4C82...        3   \n",
      "4    B9983326ADA8FB296B488236557DE7A1FADB49300C4C82...        3   \n",
      "..                                                 ...      ...   \n",
      "515  6DF9E1644CC6E42CE5465040444C3607E7AB628C7C31AF...        3   \n",
      "516  781F283B117F1EB34E5A493C40937E9E51D8D85A6279F1...        3   \n",
      "517  6DF9E1644CC6E42CE5465040444C3607E7AB628C7C31AF...        3   \n",
      "518  32B142424B77CEE5F326321B5232BBE6A10D89E01B997F...        6   \n",
      "519  32B142424B77CEE5F326321B5232BBE6A10D89E01B997F...        6   \n",
      "\n",
      "              CITY                        OPERATION_TYPE  counts  \n",
      "0        TUIMAZY G  Пополнение через банкоматы партнеров       1  \n",
      "1        TUIMAZY G  Пополнение через банкоматы партнеров       1  \n",
      "2        NALCHIK G  Пополнение через банкоматы партнеров       1  \n",
      "3        NALCHIK G      Снятие через банкоматы партнеров       1  \n",
      "4        NALCHIK G  Пополнение через банкоматы партнеров       1  \n",
      "..             ...                                   ...     ...  \n",
      "515       KHIMKI G  Пополнение через банкоматы партнеров       1  \n",
      "516  MIKHAILOVSK G      Снятие через банкоматы партнеров       1  \n",
      "517       KHIMKI G      Снятие через банкоматы партнеров       1  \n",
      "518         TYUMEN      Снятие через банкоматы партнеров       1  \n",
      "519         TYUMEN      Снятие через банкоматы партнеров       1  \n",
      "\n",
      "[520 rows x 8 columns]\n"
     ]
    }
   ],
   "source": [
    "fraud_characteristics = fraud_clients.groupby(['TIME' ,'TRANSACTION_ID','AMOUNT','CLIENT_ID', 'BANK_ID','CITY', 'OPERATION_TYPE']).size().reset_index(name='counts')\n",
    "print(\"Характеристики фродовых клиентов:\")\n",
    "print(fraud_characteristics)\n"
   ]
  },
  {
   "cell_type": "code",
   "execution_count": 124,
   "id": "7d02b5e4",
   "metadata": {},
   "outputs": [],
   "source": [
    "similar_clients = df[(df['AMOUNT'].isin(fraud_clients['AMOUNT'])) &\n",
    "                       (df['CITY'].isin(fraud_clients['CITY'])) &\n",
    "                       (df['OPERATION_TYPE'].isin(fraud_clients['OPERATION_TYPE'])) &\n",
    "                       (df['BANK_ID'].isin(fraud_clients['BANK_ID'])) &\n",
    "                       (df['FRAUD_FLAG'] == 0)]"
   ]
  },
  {
   "cell_type": "code",
   "execution_count": 125,
   "id": "532aab53",
   "metadata": {},
   "outputs": [
    {
     "name": "stderr",
     "output_type": "stream",
     "text": [
      "C:\\Users\\Валерия\\AppData\\Local\\Temp\\ipykernel_13916\\2813003114.py:2: SettingWithCopyWarning: \n",
      "A value is trying to be set on a copy of a slice from a DataFrame.\n",
      "Try using .loc[row_indexer,col_indexer] = value instead\n",
      "\n",
      "See the caveats in the documentation: https://pandas.pydata.org/pandas-docs/stable/user_guide/indexing.html#returning-a-view-versus-a-copy\n",
      "  similar_clients['MONTH'] = pd.to_datetime(similar_clients['TIME']).dt.to_period('M')\n"
     ]
    }
   ],
   "source": [
    "df['MONTH'] = pd.to_datetime(df['TIME']).dt.to_period('M')\n",
    "similar_clients['MONTH'] = pd.to_datetime(similar_clients['TIME']).dt.to_period('M')\n"
   ]
  },
  {
   "cell_type": "code",
   "execution_count": 118,
   "id": "7c702edc",
   "metadata": {},
   "outputs": [
    {
     "name": "stdout",
     "output_type": "stream",
     "text": [
      "Доля операций аналогичных клиентов по месяцам:\n",
      "     MONTH  FRAUD_CLIENT_SHARE\n",
      "0  2023-05            0.082367\n",
      "1  2023-06            0.082421\n",
      "2  2023-07            0.079852\n"
     ]
    }
   ],
   "source": [
    "monthly_analysis = similar_clients.groupby('MONTH').size() / df.groupby('MONTH').size()\n",
    "monthly_analysis = monthly_analysis.reset_index(name='FRAUD_CLIENT_SHARE')\n",
    "\n",
    "print(\"Доля операций аналогичных клиентов по месяцам:\")\n",
    "print(monthly_analysis)\n"
   ]
  },
  {
   "cell_type": "code",
   "execution_count": null,
   "id": "7ed3a1dd",
   "metadata": {},
   "outputs": [],
   "source": []
  }
 ],
 "metadata": {
  "kernelspec": {
   "display_name": "Python 3 (ipykernel)",
   "language": "python",
   "name": "python3"
  },
  "language_info": {
   "codemirror_mode": {
    "name": "ipython",
    "version": 3
   },
   "file_extension": ".py",
   "mimetype": "text/x-python",
   "name": "python",
   "nbconvert_exporter": "python",
   "pygments_lexer": "ipython3",
   "version": "3.11.5"
  }
 },
 "nbformat": 4,
 "nbformat_minor": 5
}
